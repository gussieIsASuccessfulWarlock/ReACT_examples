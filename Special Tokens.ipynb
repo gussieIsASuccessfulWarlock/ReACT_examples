{
 "cells": [
  {
   "cell_type": "code",
   "execution_count": 24,
   "metadata": {
    "vscode": {
     "languageId": "shellscript"
    }
   },
   "outputs": [
    {
     "name": "stdout",
     "output_type": "stream",
     "text": [
      "Requirement already satisfied: requests in ./function_calling/lib/python3.12/site-packages (2.32.3)\n",
      "Requirement already satisfied: langchain_core in ./function_calling/lib/python3.12/site-packages (0.2.5)\n",
      "Requirement already satisfied: charset-normalizer<4,>=2 in ./function_calling/lib/python3.12/site-packages (from requests) (3.3.2)\n",
      "Requirement already satisfied: idna<4,>=2.5 in ./function_calling/lib/python3.12/site-packages (from requests) (3.7)\n",
      "Requirement already satisfied: urllib3<3,>=1.21.1 in ./function_calling/lib/python3.12/site-packages (from requests) (2.2.1)\n",
      "Requirement already satisfied: certifi>=2017.4.17 in ./function_calling/lib/python3.12/site-packages (from requests) (2024.6.2)\n",
      "Requirement already satisfied: PyYAML>=5.3 in ./function_calling/lib/python3.12/site-packages (from langchain_core) (6.0.1)\n",
      "Requirement already satisfied: jsonpatch<2.0,>=1.33 in ./function_calling/lib/python3.12/site-packages (from langchain_core) (1.33)\n",
      "Requirement already satisfied: langsmith<0.2.0,>=0.1.66 in ./function_calling/lib/python3.12/site-packages (from langchain_core) (0.1.77)\n",
      "Requirement already satisfied: packaging<24.0,>=23.2 in ./function_calling/lib/python3.12/site-packages (from langchain_core) (23.2)\n",
      "Requirement already satisfied: pydantic<3,>=1 in ./function_calling/lib/python3.12/site-packages (from langchain_core) (2.7.4)\n",
      "Requirement already satisfied: tenacity<9.0.0,>=8.1.0 in ./function_calling/lib/python3.12/site-packages (from langchain_core) (8.3.0)\n",
      "Requirement already satisfied: jsonpointer>=1.9 in ./function_calling/lib/python3.12/site-packages (from jsonpatch<2.0,>=1.33->langchain_core) (3.0.0)\n",
      "Requirement already satisfied: orjson<4.0.0,>=3.9.14 in ./function_calling/lib/python3.12/site-packages (from langsmith<0.2.0,>=0.1.66->langchain_core) (3.10.4)\n",
      "Requirement already satisfied: annotated-types>=0.4.0 in ./function_calling/lib/python3.12/site-packages (from pydantic<3,>=1->langchain_core) (0.7.0)\n",
      "Requirement already satisfied: pydantic-core==2.18.4 in ./function_calling/lib/python3.12/site-packages (from pydantic<3,>=1->langchain_core) (2.18.4)\n",
      "Requirement already satisfied: typing-extensions>=4.6.1 in ./function_calling/lib/python3.12/site-packages (from pydantic<3,>=1->langchain_core) (4.12.2)\n",
      "Note: you may need to restart the kernel to use updated packages.\n"
     ]
    }
   ],
   "source": [
    "pip install requests langchain_core"
   ]
  },
  {
   "cell_type": "code",
   "execution_count": 25,
   "metadata": {},
   "outputs": [],
   "source": [
    "from typing import TypedDict\n",
    "from langchain_core.prompts import PromptTemplate\n",
    "import requests\n",
    "import json\n",
    "\n",
    "class Parameter(TypedDict):\n",
    "    type: str\n",
    "    description: str\n",
    "    enum: list = None\n",
    "\n",
    "class Function(TypedDict):\n",
    "    name: str\n",
    "    description: str\n",
    "    parameters: dict[Parameter]\n",
    "\n",
    "class Tool(TypedDict):\n",
    "    type: str\n",
    "    function: Function\n",
    "\n",
    "class LLM_Prompt(TypedDict):\n",
    "    tools: list[Tool]\n",
    "    prompt: str\n",
    "    model: str = \"mistral:latest\"\n",
    "\n",
    "ollama_url = \"http://127.0.0.1:11434\"\n",
    "\n",
    "\n",
    "def promptTemplate(tools: list[Tool], prompt: str):\n",
    "    tools = json.dumps(tools)\n",
    "    prompt = PromptTemplate.from_template(\"\"\"[AVAILABLE_TOOLS]{tools}[/AVAILABLE_TOOLS][INST] {prompt} [/INST]\"\"\").format(tools=tools, prompt=prompt)\n",
    "    return prompt\n",
    "\n",
    "def promptLLM(prompt: LLM_Prompt):\n",
    "    data = {\n",
    "        \"model\":  prompt[\"model\"],\n",
    "        \"prompt\": promptTemplate(prompt[\"tools\"], prompt[\"prompt\"]),\n",
    "        \"stream\": False,\n",
    "        \"raw\": True\n",
    "    }\n",
    "    response = requests.post(ollama_url + \"/api/generate\", json=data)\n",
    "    llm_res = json.loads(response.text)[\"response\"]\n",
    "    if \"[TOOL_CALLS]\" in llm_res:\n",
    "        try:\n",
    "            tool_calls = json.loads(llm_res.split(\"[TOOL_CALLS]\")[1].split(\"\\n\")[0])\n",
    "        except:\n",
    "            tool_calls = llm_res.split(\"[TOOL_CALLS]\")[1]\n",
    "        return tool_calls\n",
    "        \n",
    "    return llm_res"
   ]
  },
  {
   "cell_type": "code",
   "execution_count": 26,
   "metadata": {},
   "outputs": [
    {
     "data": {
      "text/plain": [
       "[{'name': 'get_current_weather',\n",
       "  'arguments': {'location': 'San Francisco, California, USA',\n",
       "   'unit': 'fahrenheit'}}]"
      ]
     },
     "execution_count": 26,
     "metadata": {},
     "output_type": "execute_result"
    }
   ],
   "source": [
    "response = promptLLM(LLM_Prompt(\n",
    "    prompt=\"What is the weather in San Francisco?\",\n",
    "    tools=[{\n",
    "        \"type\": \"function\",\n",
    "        \"function\": {\n",
    "            \"name\": \"get_current_weather\",\n",
    "            \"description\": \"Get the current weather\",\n",
    "            \"parameters\": {\n",
    "                \"type\": \"object\",\n",
    "                \"properties\": {\n",
    "                    \"location\": {\n",
    "                        \"type\": \"string\",\n",
    "                        \"description\": \"The city, and state, e.g. Berlin, Germany. If the location is in the US, include the state, e.g. Seattle, Washington, USA.\"\n",
    "                    },\n",
    "                    \"unit\": {\n",
    "                        \"type\": \"string\",\n",
    "                        \"enum\": [\"celsius\", \"fahrenheit\"],\n",
    "                        \"description\": \"The temperature unit to use. Infer this from the users location.\"\n",
    "                    }\n",
    "                },\n",
    "                \"required\": [\"location\", \"unit\"]\n",
    "            }\n",
    "        }\n",
    "    }],\n",
    "    model=\"mistral:latest\"\n",
    "))\n",
    "\n",
    "response"
   ]
  },
  {
   "cell_type": "code",
   "execution_count": 27,
   "metadata": {},
   "outputs": [
    {
     "data": {
      "text/plain": [
       "[{'name': 'get_current_weather',\n",
       "  'arguments': {'location': 'Colmar, France', 'unit': 'celsius'}}]"
      ]
     },
     "execution_count": 27,
     "metadata": {},
     "output_type": "execute_result"
    }
   ],
   "source": [
    "response = promptLLM(LLM_Prompt(\n",
    "    prompt=\"What is the weather in Colmar?\",\n",
    "    tools=[{\n",
    "        \"type\": \"function\",\n",
    "        \"function\": {\n",
    "            \"name\": \"get_current_weather\",\n",
    "            \"description\": \"Get the current weather\",\n",
    "            \"parameters\": {\n",
    "                \"type\": \"object\",\n",
    "                \"properties\": {\n",
    "                    \"location\": {\n",
    "                        \"type\": \"string\",\n",
    "                        \"description\": \"The city, and state, e.g. Berlin, Germany. If the location is in the US, include the state, e.g. Seattle, Washington, USA.\"\n",
    "                    },\n",
    "                    \"unit\": {\n",
    "                        \"type\": \"string\",\n",
    "                        \"enum\": [\"celsius\", \"fahrenheit\"],\n",
    "                        \"description\": \"The temperature unit to use. Infer this from the users location.\"\n",
    "                    }\n",
    "                },\n",
    "                \"required\": [\"location\", \"unit\"]\n",
    "            }\n",
    "        }\n",
    "    }],\n",
    "    model=\"mistral:latest\"\n",
    "))\n",
    "\n",
    "response"
   ]
  },
  {
   "cell_type": "code",
   "execution_count": 28,
   "metadata": {},
   "outputs": [
    {
     "data": {
      "text/plain": [
       "[{'name': 'get_stock_price', 'arguments': {'ticker': 'AAPL', 'shares': 5}}]"
      ]
     },
     "execution_count": 28,
     "metadata": {},
     "output_type": "execute_result"
    }
   ],
   "source": [
    "response = promptLLM(LLM_Prompt(\n",
    "    prompt=\"How much is 5 shares of AAPL?\",\n",
    "    tools=[\n",
    "        {\n",
    "            \"type\": \"function\",\n",
    "            \"function\": {\n",
    "                \"name\": \"get_stock_price\",\n",
    "                \"description\": \"Get the latest stock price\",\n",
    "                \"parameters\": {\n",
    "                    \"type\": \"object\",\n",
    "                    \"properties\": {\n",
    "                        \"ticker\": {\n",
    "                            \"type\": \"string\",\n",
    "                            \"description\": \"The stock ticker symbol, e.g. AAPL\",\n",
    "                        },\n",
    "                        \"shares\": {\n",
    "                            \"type\": \"int\",\n",
    "                            \"description\": \"The number of shares to get the price for. Default is 1.\",\n",
    "                        }\n",
    "                    },\n",
    "                    \"required\": [\"ticker\"],\n",
    "                },\n",
    "            }\n",
    "        }\n",
    "    ],\n",
    "    model=\"mistral:latest\"\n",
    "))\n",
    "\n",
    "response"
   ]
  },
  {
   "cell_type": "code",
   "execution_count": 29,
   "metadata": {},
   "outputs": [
    {
     "data": {
      "text/plain": [
       "' To calculate the cost of 5 shares of AAPL, I\\'ll first need to find out the current price of AAPL. Here\\'s how we can do it:\\n\\n```javascript\\nconst stockPrice = get_stock_price({\"ticker\": \"AAPL\"});\\n```\\n\\nNow that I have the price per share, let me calculate the cost for 5 shares:\\n\\n```javascript\\nconst numberOfShares = 5;\\nconst pricePerShare = stockPrice;\\nconst totalCost = calculate_share_price({\"number_of_shares\": numberOfShares, \"price\": pricePerShare});\\n\\nconsole.log(`The cost of ${numberOfShares} shares of AAPL is: $${totalCost}`);\\n```'"
      ]
     },
     "execution_count": 29,
     "metadata": {},
     "output_type": "execute_result"
    }
   ],
   "source": [
    "response = promptLLM(LLM_Prompt(\n",
    "    prompt=\"How much is 5 shares of AAPL?\",\n",
    "    tools=[\n",
    "        {\n",
    "            \"type\": \"function\",\n",
    "            \"function\": {\n",
    "                \"name\": \"get_stock_price\",\n",
    "                \"description\": \"Get the latest stock price\",\n",
    "                \"parameters\": {\n",
    "                    \"type\": \"object\",\n",
    "                    \"properties\": {\n",
    "                        \"ticker\": {\n",
    "                            \"type\": \"string\",\n",
    "                            \"description\": \"The stock ticker symbol, e.g. AAPL\",\n",
    "                        }\n",
    "                    },\n",
    "                    \"required\": [\"ticker\"],\n",
    "                },\n",
    "            }\n",
    "        },\n",
    "        {\n",
    "            \"type\": \"function\",\n",
    "            \"function\": {\n",
    "                \"name\": \"calculate_share_price\",\n",
    "                \"description\": \"Calculate the cost of a given number of shares\",\n",
    "                \"parameters\": {\n",
    "                    \"type\": \"object\",\n",
    "                    \"properties\": {\n",
    "                        \"number_of_shares\": {\n",
    "                            \"type\": \"int\",\n",
    "                            \"description\": \"The number of shares to buy\",\n",
    "                        },\n",
    "                        \"price\": {\n",
    "                            \"type\": \"float\",\n",
    "                            \"description\": \"The price per share\",\n",
    "                        },\n",
    "                    },\n",
    "                    \"required\": [\"number_of_shares\", \"price\"],\n",
    "                },\n",
    "            }\n",
    "        }\n",
    "    ],\n",
    "    model=\"mistral:latest\"\n",
    "))\n",
    "response"
   ]
  }
 ],
 "metadata": {
  "kernelspec": {
   "display_name": "Python 3",
   "language": "python",
   "name": "python3"
  },
  "language_info": {
   "codemirror_mode": {
    "name": "ipython",
    "version": 3
   },
   "file_extension": ".py",
   "mimetype": "text/x-python",
   "name": "python",
   "nbconvert_exporter": "python",
   "pygments_lexer": "ipython3",
   "version": "3.12.3"
  }
 },
 "nbformat": 4,
 "nbformat_minor": 2
}
