{
 "cells": [
  {
   "cell_type": "code",
   "execution_count": 7,
   "metadata": {
    "vscode": {
     "languageId": "shellscript"
    }
   },
   "outputs": [
    {
     "name": "stdout",
     "output_type": "stream",
     "text": [
      "Requirement already satisfied: langchain_experimental in ./function_calling/lib/python3.12/site-packages (0.0.60)\n",
      "Requirement already satisfied: langchain_core in ./function_calling/lib/python3.12/site-packages (0.2.5)\n",
      "Requirement already satisfied: langchain-community<0.3,>=0.2 in ./function_calling/lib/python3.12/site-packages (from langchain_experimental) (0.2.4)\n",
      "Requirement already satisfied: PyYAML>=5.3 in ./function_calling/lib/python3.12/site-packages (from langchain_core) (6.0.1)\n",
      "Requirement already satisfied: jsonpatch<2.0,>=1.33 in ./function_calling/lib/python3.12/site-packages (from langchain_core) (1.33)\n",
      "Requirement already satisfied: langsmith<0.2.0,>=0.1.66 in ./function_calling/lib/python3.12/site-packages (from langchain_core) (0.1.77)\n",
      "Requirement already satisfied: packaging<24.0,>=23.2 in ./function_calling/lib/python3.12/site-packages (from langchain_core) (23.2)\n",
      "Requirement already satisfied: pydantic<3,>=1 in ./function_calling/lib/python3.12/site-packages (from langchain_core) (2.7.4)\n",
      "Requirement already satisfied: tenacity<9.0.0,>=8.1.0 in ./function_calling/lib/python3.12/site-packages (from langchain_core) (8.3.0)\n",
      "Requirement already satisfied: jsonpointer>=1.9 in ./function_calling/lib/python3.12/site-packages (from jsonpatch<2.0,>=1.33->langchain_core) (3.0.0)\n",
      "Requirement already satisfied: SQLAlchemy<3,>=1.4 in ./function_calling/lib/python3.12/site-packages (from langchain-community<0.3,>=0.2->langchain_experimental) (2.0.30)\n",
      "Requirement already satisfied: aiohttp<4.0.0,>=3.8.3 in ./function_calling/lib/python3.12/site-packages (from langchain-community<0.3,>=0.2->langchain_experimental) (3.9.5)\n",
      "Requirement already satisfied: dataclasses-json<0.7,>=0.5.7 in ./function_calling/lib/python3.12/site-packages (from langchain-community<0.3,>=0.2->langchain_experimental) (0.6.7)\n",
      "Requirement already satisfied: langchain<0.3.0,>=0.2.0 in ./function_calling/lib/python3.12/site-packages (from langchain-community<0.3,>=0.2->langchain_experimental) (0.2.3)\n",
      "Requirement already satisfied: numpy<2,>=1 in ./function_calling/lib/python3.12/site-packages (from langchain-community<0.3,>=0.2->langchain_experimental) (1.26.4)\n",
      "Requirement already satisfied: requests<3,>=2 in ./function_calling/lib/python3.12/site-packages (from langchain-community<0.3,>=0.2->langchain_experimental) (2.32.3)\n",
      "Requirement already satisfied: orjson<4.0.0,>=3.9.14 in ./function_calling/lib/python3.12/site-packages (from langsmith<0.2.0,>=0.1.66->langchain_core) (3.10.4)\n",
      "Requirement already satisfied: annotated-types>=0.4.0 in ./function_calling/lib/python3.12/site-packages (from pydantic<3,>=1->langchain_core) (0.7.0)\n",
      "Requirement already satisfied: pydantic-core==2.18.4 in ./function_calling/lib/python3.12/site-packages (from pydantic<3,>=1->langchain_core) (2.18.4)\n",
      "Requirement already satisfied: typing-extensions>=4.6.1 in ./function_calling/lib/python3.12/site-packages (from pydantic<3,>=1->langchain_core) (4.12.2)\n",
      "Requirement already satisfied: aiosignal>=1.1.2 in ./function_calling/lib/python3.12/site-packages (from aiohttp<4.0.0,>=3.8.3->langchain-community<0.3,>=0.2->langchain_experimental) (1.3.1)\n",
      "Requirement already satisfied: attrs>=17.3.0 in ./function_calling/lib/python3.12/site-packages (from aiohttp<4.0.0,>=3.8.3->langchain-community<0.3,>=0.2->langchain_experimental) (23.2.0)\n",
      "Requirement already satisfied: frozenlist>=1.1.1 in ./function_calling/lib/python3.12/site-packages (from aiohttp<4.0.0,>=3.8.3->langchain-community<0.3,>=0.2->langchain_experimental) (1.4.1)\n",
      "Requirement already satisfied: multidict<7.0,>=4.5 in ./function_calling/lib/python3.12/site-packages (from aiohttp<4.0.0,>=3.8.3->langchain-community<0.3,>=0.2->langchain_experimental) (6.0.5)\n",
      "Requirement already satisfied: yarl<2.0,>=1.0 in ./function_calling/lib/python3.12/site-packages (from aiohttp<4.0.0,>=3.8.3->langchain-community<0.3,>=0.2->langchain_experimental) (1.9.4)\n",
      "Requirement already satisfied: marshmallow<4.0.0,>=3.18.0 in ./function_calling/lib/python3.12/site-packages (from dataclasses-json<0.7,>=0.5.7->langchain-community<0.3,>=0.2->langchain_experimental) (3.21.3)\n",
      "Requirement already satisfied: typing-inspect<1,>=0.4.0 in ./function_calling/lib/python3.12/site-packages (from dataclasses-json<0.7,>=0.5.7->langchain-community<0.3,>=0.2->langchain_experimental) (0.9.0)\n",
      "Requirement already satisfied: langchain-text-splitters<0.3.0,>=0.2.0 in ./function_calling/lib/python3.12/site-packages (from langchain<0.3.0,>=0.2.0->langchain-community<0.3,>=0.2->langchain_experimental) (0.2.1)\n",
      "Requirement already satisfied: charset-normalizer<4,>=2 in ./function_calling/lib/python3.12/site-packages (from requests<3,>=2->langchain-community<0.3,>=0.2->langchain_experimental) (3.3.2)\n",
      "Requirement already satisfied: idna<4,>=2.5 in ./function_calling/lib/python3.12/site-packages (from requests<3,>=2->langchain-community<0.3,>=0.2->langchain_experimental) (3.7)\n",
      "Requirement already satisfied: urllib3<3,>=1.21.1 in ./function_calling/lib/python3.12/site-packages (from requests<3,>=2->langchain-community<0.3,>=0.2->langchain_experimental) (2.2.1)\n",
      "Requirement already satisfied: certifi>=2017.4.17 in ./function_calling/lib/python3.12/site-packages (from requests<3,>=2->langchain-community<0.3,>=0.2->langchain_experimental) (2024.6.2)\n",
      "Requirement already satisfied: greenlet!=0.4.17 in ./function_calling/lib/python3.12/site-packages (from SQLAlchemy<3,>=1.4->langchain-community<0.3,>=0.2->langchain_experimental) (3.0.3)\n",
      "Requirement already satisfied: mypy-extensions>=0.3.0 in ./function_calling/lib/python3.12/site-packages (from typing-inspect<1,>=0.4.0->dataclasses-json<0.7,>=0.5.7->langchain-community<0.3,>=0.2->langchain_experimental) (1.0.0)\n",
      "Note: you may need to restart the kernel to use updated packages.\n"
     ]
    }
   ],
   "source": [
    "pip install langchain_experimental langchain_core"
   ]
  },
  {
   "cell_type": "code",
   "execution_count": 2,
   "metadata": {},
   "outputs": [],
   "source": [
    "from langchain_experimental.llms.ollama_functions import OllamaFunctions\n",
    "from langchain_core.messages import HumanMessage\n",
    "\n",
    "ollama_url = \"http://127.0.0.1:11434\"\n",
    "\n",
    "llm = OllamaFunctions(base_url=ollama_url, model=\"mixtral:8x7b\", format=\"json\")"
   ]
  },
  {
   "cell_type": "code",
   "execution_count": 3,
   "metadata": {},
   "outputs": [],
   "source": [
    "model = llm.bind_tools(\n",
    "    tools=[\n",
    "        {\n",
    "            \"name\": \"get_current_weather\",\n",
    "            \"description\": \"Get the current weather in a given location\",\n",
    "            \"parameters\": {\n",
    "                \"type\": \"object\",\n",
    "                \"properties\": {\n",
    "                    \"location\": {\n",
    "                        \"type\": \"string\",\n",
    "                        \"description\": \"The city, and state, e.g. Berlin, Germany. If the location is in the US, include the state, e.g. Seattle, Washington, USA.\"\n",
    "                    },\n",
    "                    \"unit\": {\n",
    "                        \"type\": \"string\",\n",
    "                        \"enum\": [\"celsius\", \"fahrenheit\"],\n",
    "                        \"description\": \"The temperature unit to use. Infer this from the users location.\"\n",
    "                    }\n",
    "                },\n",
    "                \"required\": [\"location\", \"unit\"],\n",
    "            },\n",
    "        }\n",
    "    ],\n",
    "    function_call={\"name\": \"get_current_weather\"},\n",
    ")"
   ]
  },
  {
   "cell_type": "code",
   "execution_count": 4,
   "metadata": {},
   "outputs": [
    {
     "data": {
      "text/plain": [
       "[{'name': 'get_current_weather',\n",
       "  'args': {'location': 'San Francisco, California, USA', 'unit': 'fahrenheit'},\n",
       "  'id': 'call_235c14f1074646ffabde9563a8a37f5b'}]"
      ]
     },
     "execution_count": 4,
     "metadata": {},
     "output_type": "execute_result"
    }
   ],
   "source": [
    "tool = model.invoke([\n",
    "    HumanMessage(content=\"What is the weather in San Francisco?\")\n",
    "]).tool_calls\n",
    "\n",
    "tool"
   ]
  },
  {
   "cell_type": "code",
   "execution_count": 5,
   "metadata": {},
   "outputs": [
    {
     "data": {
      "text/plain": [
       "[{'name': 'get_current_weather',\n",
       "  'args': {'location': 'Colmar, France', 'unit': 'celsius'},\n",
       "  'id': 'call_00712508c6714dfd906df9658f123c67'}]"
      ]
     },
     "execution_count": 5,
     "metadata": {},
     "output_type": "execute_result"
    }
   ],
   "source": [
    "tool = model.invoke([\n",
    "    HumanMessage(content=\"What is the weather in Colmar?\")\n",
    "]).tool_calls\n",
    "\n",
    "tool"
   ]
  },
  {
   "cell_type": "code",
   "execution_count": 11,
   "metadata": {},
   "outputs": [
    {
     "data": {
      "text/plain": [
       "[{'name': 'get_stock_price',\n",
       "  'args': {'ticker': 'AAPL', 'shares': 5},\n",
       "  'id': 'call_920ae854c8cf4abc9ec495747cd253d5'}]"
      ]
     },
     "execution_count": 11,
     "metadata": {},
     "output_type": "execute_result"
    }
   ],
   "source": [
    "model = llm.bind_tools(\n",
    "    tools=[\n",
    "        {\n",
    "            \"name\": \"get_stock_price\",\n",
    "            \"description\": \"Get the latest stock price\",\n",
    "            \"parameters\": {\n",
    "                \"type\": \"object\",\n",
    "                \"properties\": {\n",
    "                    \"ticker\": {\n",
    "                        \"type\": \"string\",\n",
    "                        \"description\": \"The stock ticker symbol, e.g. AAPL\",\n",
    "                    },\n",
    "                    \"shares\": {\n",
    "                        \"type\": \"int\",\n",
    "                        \"description\": \"The number of shares to get the price for. Default is 1.\",\n",
    "                    }\n",
    "                },\n",
    "                \"required\": [\"ticker\"],\n",
    "            },\n",
    "        }\n",
    "    ]\n",
    ")\n",
    "\n",
    "tool = model.invoke([\n",
    "    HumanMessage(content=\"How much is 5 shares of AAPL?\"),\n",
    "]).tool_calls\n",
    "\n",
    "tool"
   ]
  },
  {
   "cell_type": "code",
   "execution_count": 6,
   "metadata": {},
   "outputs": [
    {
     "data": {
      "text/plain": [
       "[{'name': 'calculate_share_price_with_a_budget',\n",
       "  'args': {'budget': 1000, 'price': 23.94},\n",
       "  'id': 'call_34ea918231d54db198e44d194dc9e9c0'}]"
      ]
     },
     "execution_count": 6,
     "metadata": {},
     "output_type": "execute_result"
    }
   ],
   "source": [
    "model = llm.bind_tools(\n",
    "    tools=[\n",
    "        {\n",
    "            \"name\": \"get_stock_price\",\n",
    "            \"description\": \"Get the latest stock price\",\n",
    "            \"parameters\": {\n",
    "                \"type\": \"object\",\n",
    "                \"properties\": {\n",
    "                    \"ticker\": {\n",
    "                        \"type\": \"string\",\n",
    "                        \"description\": \"The stock ticker symbol, e.g. AAPL\",\n",
    "                    }\n",
    "                },\n",
    "                \"required\": [\"location\", \"unit\"],\n",
    "            },\n",
    "        },\n",
    "        {\n",
    "            \"name\": \"calculate_share_price\",\n",
    "            \"description\": \"Calculate the cost of a given number of shares\",\n",
    "            \"parameters\": {\n",
    "                \"type\": \"object\",\n",
    "                \"properties\": {\n",
    "                    \"number_of_shares\": {\n",
    "                        \"type\": \"int\",\n",
    "                        \"description\": \"The number of shares to buy\",\n",
    "                    },\n",
    "                    \"price\": {\n",
    "                        \"type\": \"float\",\n",
    "                        \"description\": \"The price per share\",\n",
    "                    },\n",
    "                },\n",
    "                \"required\": [\"location\", \"unit\"],\n",
    "            },\n",
    "        },\n",
    "        {\n",
    "            \"name\": \"calculate_share_price_with_a_budget\",\n",
    "            \"description\": \"Calculate the max number of shares one can purchase on a given budget\",\n",
    "            \"parameters\": {\n",
    "                \"type\": \"object\",\n",
    "                \"properties\": {\n",
    "                    \"budget\": {\n",
    "                        \"type\": \"float\",\n",
    "                        \"description\": \"One's budget to spend on shares\",\n",
    "                    },\n",
    "                    \"price\": {\n",
    "                        \"type\": \"float\",\n",
    "                        \"description\": \"The price per share\",\n",
    "                    },\n",
    "                },\n",
    "                \"required\": [\"location\", \"unit\"],\n",
    "            },\n",
    "        }\n",
    "    ]\n",
    ")\n",
    "\n",
    "tool = model.invoke([\n",
    "    HumanMessage(content=\"How many shares of MSFT can I buy with $1000?\"),\n",
    "]).tool_calls\n",
    "\n",
    "tool"
   ]
  }
 ],
 "metadata": {
  "kernelspec": {
   "display_name": "Python 3",
   "language": "python",
   "name": "python3"
  },
  "language_info": {
   "codemirror_mode": {
    "name": "ipython",
    "version": 3
   },
   "file_extension": ".py",
   "mimetype": "text/x-python",
   "name": "python",
   "nbconvert_exporter": "python",
   "pygments_lexer": "ipython3",
   "version": "3.12.3"
  }
 },
 "nbformat": 4,
 "nbformat_minor": 2
}
